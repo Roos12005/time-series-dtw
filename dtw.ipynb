{
 "cells": [
  {
   "cell_type": "code",
   "execution_count": 1,
   "metadata": {
    "collapsed": false
   },
   "outputs": [],
   "source": [
    "# -*- coding: utf-8 -*-\n",
    "\n",
    "class Dtw(object):\n",
    "    \n",
    "    def __init__(self, seq1, seq2,\n",
    "                 patterns = [(-1,-1), (-1,0), (0,-1)], \n",
    "                 weights = [{(0,0):2}, {(0,0):1}, {(0,0):1}], \n",
    "                 band_r=0.5):\n",
    "        self._seq1 = seq1\n",
    "        self._seq2 = seq2\n",
    "        self._r = min(10, band_r*max(len(seq1), len(seq2)))\n",
    "        assert len(patterns) == len(weights)\n",
    "        self._patterns = patterns\n",
    "        self._weights = weights\n",
    "        self._map = {(-1, -1): 0}\n",
    "    \n",
    "    def get_distance(self, idx1, idx2):\n",
    "        if idx1<0 or idx2<0 or idx1>=len(self._seq1) or idx2>=len(self._seq2):\n",
    "            return 0\n",
    "        return abs(self._seq1[idx1] - self._seq2[idx2])\n",
    "\n",
    "    def calculate_path(self, idx1, idx2, pattern, weight):\n",
    "        g = self.calculate(idx1+pattern[0], idx2+pattern[1])\n",
    "        sum_d = 0\n",
    "        for coor_offset, w in weight.items():\n",
    "            i1, i2 = map(sum, zip((idx1, idx2), coor_offset))\n",
    "            sum_d += self.get_distance(i1, i2)\n",
    "        return g + sum_d\n",
    "\n",
    "    def calculate(self, idx1, idx2):\n",
    "        if (idx1, idx2) in self._map:\n",
    "            return self._map[(idx1, idx2)]\n",
    "        if idx1 < 0 or idx2 < 0 or abs(idx1-idx2) > self._r:\n",
    "            return float('inf')\n",
    "        min_prev_dp = float('inf')\n",
    "        for i in range(len(self._patterns)):\n",
    "            min_prev_dp = min(min_prev_dp, self.calculate_path(idx1, idx2, self._patterns[i], self._weights[i]))\n",
    "        self._map[(idx1, idx2)] = min_prev_dp\n",
    "        return self._map[(idx1, idx2)]\n",
    "    \n",
    "    @property\n",
    "    def dtw_matrix_dict(self):\n",
    "        return self._map\n",
    "\n",
    "    def print_dtw_matrix(self):\n",
    "        print('      '+' '.join([\"{:^7d}\".format(i) for i in range(len(self._seq2))]))\n",
    "        for i in range(len(self._seq1)):\n",
    "            str = \"{:^4d}: \".format(i)\n",
    "            for j in range(len(self._seq2)):\n",
    "                if (i,j) not in self._map:\n",
    "                    str += \"{:^7s} \".format('-')\n",
    "                else:\n",
    "                    str += \"{:^7.3f} \".format(self._map[(i,j)])\n",
    "            print (str)\n",
    "    \n",
    "    def get_dtw(self):\n",
    "        g = self.calculate(len(self._seq1)-1, len(self._seq2)-1)\n",
    "        N = len(self._seq1) + len(self._seq2)\n",
    "        return g/N"
   ]
  },
  {
   "cell_type": "markdown",
   "metadata": {},
   "source": [
    "# Main"
   ]
  },
  {
   "cell_type": "markdown",
   "metadata": {},
   "source": [
    "### Different patterns"
   ]
  },
  {
   "cell_type": "code",
   "execution_count": 14,
   "metadata": {
    "collapsed": false
   },
   "outputs": [],
   "source": [
    "PATTERNS_1 = [(0,-1), (-1,-1), (-1,0)]\n",
    "WEIGHTS_SYM_1 = [{(0,0):1}, {(0,0):2}, {(0,0):1}] \n",
    "WEIGHTS_ASYM_1 = [{}, {(0,0):1}, {(0,0):1}] \n",
    "\n",
    "PATTERNS_2 = [(-1,-3), (-1,-2), (-1,-1), (-2,-1), (-3,-1)]\n",
    "WEIGHTS_SYM_2 = [{(0,-2):2, (0,-1):1, (0,0):1}, \\\n",
    "                 {(0,-1):2, (0,0):1}, \\\n",
    "                 {(0,0):2}, \\\n",
    "                 {(-1,0):2, (0,0):1}, \\\n",
    "                 {(-2,0):2, (-1,1):1, (0,0):1}] \n",
    "WEIGHTS_ASYM_2 = [{(0,-2):1, (0,-1):1, (0,0):1/3}, \\\n",
    "                  {(0,-1):1, (0,0):1/2}, \\\n",
    "                  {(0,0):1}, \\\n",
    "                  {(-1,0):1, (0,0):1}, \\\n",
    "                  {(-2,0):1, (-1,1):1, (0,0):1}] "
   ]
  },
  {
   "cell_type": "markdown",
   "metadata": {},
   "source": [
    "### Initiation"
   ]
  },
  {
   "cell_type": "code",
   "execution_count": 10,
   "metadata": {
    "collapsed": true
   },
   "outputs": [],
   "source": [
    "import numpy as np\n",
    "seq1 = [1, 1, 2, 9]*2\n",
    "seq2 = [0, 1, 1, 2]*2"
   ]
  },
  {
   "cell_type": "markdown",
   "metadata": {},
   "source": [
    "### Z-Normalization"
   ]
  },
  {
   "cell_type": "code",
   "execution_count": 11,
   "metadata": {
    "collapsed": false
   },
   "outputs": [],
   "source": [
    "seq1 = (np.array(seq1)-np.mean(seq1))/np.std(seq1)\n",
    "seq2 = (np.array(seq2)-np.mean(seq2))/np.std(seq2)"
   ]
  },
  {
   "cell_type": "markdown",
   "metadata": {},
   "source": [
    "### Calculate DTW"
   ]
  },
  {
   "cell_type": "markdown",
   "metadata": {},
   "source": [
    "#### Symmetric Pattern 1\n",
    "g(i, j) = min( g(i,j-1)+d(i,j),  g(i-1,j-1)+2d(i,j),  g(i-1,j)+d(i,j) )"
   ]
  },
  {
   "cell_type": "code",
   "execution_count": 5,
   "metadata": {
    "collapsed": false
   },
   "outputs": [
    {
     "data": {
      "text/plain": [
       "0.26160228246317752"
      ]
     },
     "execution_count": 5,
     "metadata": {},
     "output_type": "execute_result"
    }
   ],
   "source": [
    "d = Dtw(seq1, seq2, PATTERNS_1, WEIGHTS_SYM_1)\n",
    "d.get_dtw()"
   ]
  },
  {
   "cell_type": "code",
   "execution_count": 6,
   "metadata": {
    "collapsed": false
   },
   "outputs": [
    {
     "name": "stdout",
     "output_type": "stream",
     "text": [
      "         0       1       2       3       4       5       6       7   \n",
      " 0  :  0.742   1.414   2.087   4.174   4.915     -       -       -    \n",
      " 1  :  1.483   1.414   2.087   4.174   4.915   5.588     -       -    \n",
      " 2  :  2.524   1.788   1.788   3.576   4.616   4.990   5.364     -    \n",
      " 3  :  5.657   3.507   3.507   2.093   5.226   6.335   6.709   5.669  \n",
      " 4  :  6.398   4.180   4.180   4.180   2.834   3.507   4.180   6.267  \n",
      " 5  :    -     4.852   4.852   6.267   3.576   3.507   4.180   6.267  \n",
      " 6  :    -       -     5.226   6.640   4.616   3.881   3.881   5.669  \n",
      " 7  :    -       -       -     5.531   7.750   5.600   5.600   4.186  \n"
     ]
    }
   ],
   "source": [
    "d.print_dtw_matrix()"
   ]
  },
  {
   "cell_type": "markdown",
   "metadata": {},
   "source": [
    "#### Asymmetric Pattern 2\n",
    "g(i, j) = min( g(i,j-1),  g(i-1,j-1)+d(i,j),  g(i-1,j)+d(i,j) )"
   ]
  },
  {
   "cell_type": "code",
   "execution_count": 7,
   "metadata": {
    "collapsed": false
   },
   "outputs": [
    {
     "data": {
      "text/plain": [
       "0.25730038274945188"
      ]
     },
     "execution_count": 7,
     "metadata": {},
     "output_type": "execute_result"
    }
   ],
   "source": [
    "d = Dtw(seq1, seq2, PATTERNS_1, WEIGHTS_ASYM_1)\n",
    "d.get_dtw()"
   ]
  },
  {
   "cell_type": "code",
   "execution_count": 8,
   "metadata": {
    "collapsed": false,
    "scrolled": true
   },
   "outputs": [
    {
     "name": "stdout",
     "output_type": "stream",
     "text": [
      "         0       1       2       3       4       5       6       7   \n",
      " 0  :  0.742   0.742   0.742   0.742   0.742     -       -       -    \n",
      " 1  :  1.483   1.414   1.414   1.414   1.414   1.414     -       -    \n",
      " 2  :  2.524   1.788   1.788   1.788   1.788   1.788   1.788     -    \n",
      " 3  :  5.657   3.507   3.507   2.093   2.093   2.093   2.093   2.093  \n",
      " 4  :  6.398   4.180   4.180   4.180   2.834   2.766   2.766   2.766  \n",
      " 5  :    -     4.852   4.852   4.852   3.576   3.438   3.438   3.438  \n",
      " 6  :    -       -     5.226   5.226   4.616   3.812   3.812   3.812  \n",
      " 7  :    -       -       -     5.531   5.531   5.531   5.531   4.117  \n"
     ]
    }
   ],
   "source": [
    "d.print_dtw_matrix()"
   ]
  },
  {
   "cell_type": "markdown",
   "metadata": {},
   "source": [
    "#### Symmetric Pattern 2"
   ]
  },
  {
   "cell_type": "code",
   "execution_count": 9,
   "metadata": {
    "collapsed": false
   },
   "outputs": [
    {
     "data": {
      "text/plain": [
       "0.26160228246317752"
      ]
     },
     "execution_count": 9,
     "metadata": {},
     "output_type": "execute_result"
    }
   ],
   "source": [
    "d = Dtw(seq1, seq2, PATTERNS_2, WEIGHTS_SYM_2)\n",
    "d.get_dtw()"
   ]
  },
  {
   "cell_type": "code",
   "execution_count": 10,
   "metadata": {
    "collapsed": false
   },
   "outputs": [
    {
     "name": "stdout",
     "output_type": "stream",
     "text": [
      "         0       1       2       3       4       5       6       7   \n",
      " 0  :  0.742   1.414   2.087    inf     inf      -       -       -    \n",
      " 1  :  1.483   1.414   2.087   4.174   4.915   5.588     -       -    \n",
      " 2  :  2.455   1.788   1.788   3.576   4.616   5.289     -       -    \n",
      " 3  :   inf    3.507   3.507   2.093   5.226   6.335     -       -    \n",
      " 4  :   inf    4.249   2.766   4.180   2.834   3.507   4.180     -    \n",
      " 5  :    -     5.519   4.852   4.852   3.576   3.507   4.180     -    \n",
      " 6  :    -       -       -       -     4.548   3.881   3.881     -    \n",
      " 7  :    -       -       -       -       -       -       -     4.186  \n"
     ]
    }
   ],
   "source": [
    "d.print_dtw_matrix()"
   ]
  },
  {
   "cell_type": "markdown",
   "metadata": {},
   "source": [
    "#### Asymmetric Pattern 2"
   ]
  },
  {
   "cell_type": "code",
   "execution_count": 11,
   "metadata": {
    "collapsed": false
   },
   "outputs": [
    {
     "data": {
      "text/plain": [
       "0.26160228246317752"
      ]
     },
     "execution_count": 11,
     "metadata": {},
     "output_type": "execute_result"
    }
   ],
   "source": [
    "d = Dtw(seq1, seq2, PATTERNS_2, WEIGHTS_ASYM_2)\n",
    "d.get_dtw()"
   ]
  },
  {
   "cell_type": "code",
   "execution_count": 12,
   "metadata": {
    "collapsed": false,
    "scrolled": true
   },
   "outputs": [
    {
     "name": "stdout",
     "output_type": "stream",
     "text": [
      "         0       1       2       3       4       5       6       7   \n",
      " 0  :  0.742   1.414   2.087    inf     inf      -       -       -    \n",
      " 1  :  1.483   1.414   2.087   4.174   4.915   5.588     -       -    \n",
      " 2  :  2.455   1.788   1.788   3.576   4.616   5.289     -       -    \n",
      " 3  :   inf    3.507   3.507   2.093   5.226   6.335     -       -    \n",
      " 4  :   inf    4.249   2.766   4.180   2.834   3.507   4.180     -    \n",
      " 5  :    -     5.519   4.852   4.852   3.576   3.507   4.180     -    \n",
      " 6  :    -       -       -       -     4.548   3.881   3.881     -    \n",
      " 7  :    -       -       -       -       -       -       -     4.186  \n"
     ]
    }
   ],
   "source": [
    "d.print_dtw_matrix()"
   ]
  },
  {
   "cell_type": "markdown",
   "metadata": {},
   "source": [
    "# Implementation2"
   ]
  },
  {
   "cell_type": "code",
   "execution_count": 35,
   "metadata": {
    "collapsed": false
   },
   "outputs": [],
   "source": [
    "# -*- coding: utf-8 -*-\n",
    "\n",
    "class Dtw(object):\n",
    "    \n",
    "    def __init__(self, seq1, seq2,\n",
    "                 patterns = [(-1,-1), (-1,0), (0,-1)], \n",
    "                 weights = [{(0,0):2}, {(0,0):1}, {(0,0):1}], \n",
    "                 band_r=5):\n",
    "        self._seq1 = seq1\n",
    "        self._seq2 = seq2\n",
    "        self.len_seq1 = len(seq1)\n",
    "        self.len_seq2 = len(seq2)\n",
    "        self.len_pattern = len(patterns)\n",
    "        self.sum_w = [sum(ws.values()) for ws in weights]\n",
    "        self._r = band_r\n",
    "        assert len(patterns) == len(weights)\n",
    "        self._patterns = patterns\n",
    "        self._weights = weights\n",
    "    \n",
    "    def get_distance(self, i1, i2):\n",
    "        return abs(self._seq1[i1] - self._seq2[i2])\n",
    "\n",
    "    def calculate(self):\n",
    "        g = list([float('inf')]*self.len_seq2 for i in range(self.len_seq1))\n",
    "        cost = list([0]*self.len_seq2 for i in range(self.len_seq1))\n",
    "\n",
    "        g[0][0] = 2*self.get_distance(0, 0)\n",
    "        for i in range(self.len_seq1):\n",
    "            for j in range(max(0,i-self._r), min(i+self._r+1, self.len_seq2)):\n",
    "                for pat_i in range(self.len_pattern):\n",
    "                    coor = (i+self._patterns[pat_i][0], j+self._patterns[pat_i][1])\n",
    "                    if coor[0]<0 or coor[1]<0:\n",
    "                        continue\n",
    "                    dist = 0\n",
    "                    for w_coor_offset, d_w in self._weights[pat_i].items():\n",
    "                        w_coor = (i+w_coor_offset[0], j+w_coor_offset[1])\n",
    "                        dist += self.get_distance(w_coor[0], w_coor[1])\n",
    "                    this_val = g[coor[0]][coor[1]] + dist\n",
    "                    this_cost = cost[coor[0]][coor[1]] + self.sum_w[pat_i]\n",
    "                    if this_val < g[i][j]:\n",
    "                        g[i][j] = this_val\n",
    "                        cost[i][j] = this_cost\n",
    "        return g[self.len_seq1-1][self.len_seq2-1]/cost[self.len_seq1-1][self.len_seq2-1], g, cost\n",
    "    \n",
    "    def print_table(self, tb):\n",
    "        print('      '+' '.join([\"{:^7d}\".format(i) for i in range(self.len_seq2)]))\n",
    "        for i in range(self.len_seq1):\n",
    "            str = \"{:^4d}: \".format(i)\n",
    "            for j in range(self.len_seq2):\n",
    "                str += \"{:^7.3f} \".format(tb[i][j])\n",
    "            print (str)\n",
    "\n",
    "    def print_g_matrix(self):\n",
    "        _, tb, _ = self.calculate()\n",
    "        self.print_table(tb)\n",
    "\n",
    "    def print_cost_matrix(self):\n",
    "        _, _, tb = self.calculate()\n",
    "        self.print_table(tb)\n",
    "        \n",
    "    def get_dtw(self):\n",
    "        ans, _, _ = self.calculate()\n",
    "        return ans"
   ]
  },
  {
   "cell_type": "code",
   "execution_count": 48,
   "metadata": {
    "collapsed": false
   },
   "outputs": [
    {
     "data": {
      "text/plain": [
       "0.69404687184108327"
      ]
     },
     "execution_count": 48,
     "metadata": {},
     "output_type": "execute_result"
    }
   ],
   "source": [
    "d = Dtw(seq1, seq2, PATTERNS_1, WEIGHTS_ASYM_1)\n",
    "d.get_dtw()"
   ]
  },
  {
   "cell_type": "code",
   "execution_count": 49,
   "metadata": {
    "collapsed": false
   },
   "outputs": [
    {
     "name": "stdout",
     "output_type": "stream",
     "text": [
      "         0       1       2       3       4       5       6       7   \n",
      " 0  :  1.483   1.483   1.483   1.483   1.483   1.483    inf     inf   \n",
      " 1  :  2.225   2.156   2.156   2.156   2.156   2.156   2.156    inf   \n",
      " 2  :  3.265   2.529   2.529   2.529   2.529   2.529   2.529   2.529  \n",
      " 3  :  6.398   4.249   4.249   2.834   2.834   2.834   2.834   2.834  \n",
      " 4  :  7.140   4.921   4.921   4.921   3.576   3.507   3.507   3.507  \n",
      " 5  :  7.881   5.594   5.594   5.594   4.317   4.180   4.180   4.180  \n",
      " 6  :   inf    5.968   5.968   5.968   5.358   4.553   4.553   4.553  \n",
      " 7  :   inf     inf    7.687   6.273   6.273   6.273   6.273   4.858  \n"
     ]
    }
   ],
   "source": [
    "d.print_g_matrix()"
   ]
  },
  {
   "cell_type": "code",
   "execution_count": 50,
   "metadata": {
    "collapsed": false
   },
   "outputs": [
    {
     "name": "stdout",
     "output_type": "stream",
     "text": [
      "         0       1       2       3       4       5       6       7   \n",
      " 0  :  0.000   0.000   0.000   0.000   0.000   0.000   0.000   0.000  \n",
      " 1  :  1.000   1.000   1.000   1.000   1.000   1.000   1.000   0.000  \n",
      " 2  :  2.000   2.000   2.000   2.000   2.000   2.000   2.000   2.000  \n",
      " 3  :  3.000   3.000   3.000   3.000   3.000   3.000   3.000   3.000  \n",
      " 4  :  4.000   4.000   4.000   4.000   4.000   4.000   4.000   4.000  \n",
      " 5  :  5.000   5.000   5.000   5.000   5.000   5.000   5.000   5.000  \n",
      " 6  :  0.000   6.000   6.000   6.000   6.000   6.000   6.000   6.000  \n",
      " 7  :  0.000   0.000   7.000   7.000   7.000   7.000   7.000   7.000  \n"
     ]
    }
   ],
   "source": [
    "d.print_cost_matrix()"
   ]
  }
 ],
 "metadata": {
  "anaconda-cloud": {},
  "kernelspec": {
   "display_name": "Python [conda root]",
   "language": "python",
   "name": "conda-root-py"
  },
  "language_info": {
   "codemirror_mode": {
    "name": "ipython",
    "version": 3
   },
   "file_extension": ".py",
   "mimetype": "text/x-python",
   "name": "python",
   "nbconvert_exporter": "python",
   "pygments_lexer": "ipython3",
   "version": "3.5.2"
  }
 },
 "nbformat": 4,
 "nbformat_minor": 1
}
