{
 "cells": [
  {
   "cell_type": "code",
   "execution_count": 8,
   "metadata": {
    "collapsed": false
   },
   "outputs": [],
   "source": [
    "# -*- coding: utf-8 -*-\n",
    "\n",
    "class Dtw(object):\n",
    "    \n",
    "    def __init__(self, seq1, seq2, patterns = [(-1,-1), (-1,0), (0,-1)], \n",
    "                 weights = [{(0,0):2}, {(0,0):1}, {(0,0):1}]):\n",
    "        self._seq1 = seq1\n",
    "        self._seq2 = seq2\n",
    "        assert len(patterns) == len(weights)\n",
    "        self._patterns = patterns\n",
    "        self._weights = weights\n",
    "        self._map = {(0, 0): 2*self.get_distance(0,0)}\n",
    "    \n",
    "    def get_distance(self, idx1, idx2):\n",
    "        if idx1<0 or idx2<0 or idx1>=len(self._seq1) or idx2>=len(self._seq2):\n",
    "            return 0\n",
    "        return abs(self._seq1[idx1] - self._seq2[idx2])\n",
    "\n",
    "    def calculate_path(self, idx1, idx2, pattern, weight):\n",
    "        g = self.calculate(idx1+pattern[0], idx2+pattern[1])\n",
    "        sum_d = 0\n",
    "        for coor_offset, w in weight.items():\n",
    "            i1, i2 = map(sum, zip((idx1, idx2), coor_offset))\n",
    "            sum_d += self.get_distance(i1, i2)\n",
    "        return g + sum_d\n",
    "\n",
    "    def calculate(self, idx1, idx2):\n",
    "        if (idx1, idx2) in self._map:\n",
    "            return self._map[(idx1, idx2)]\n",
    "        if idx1 < 0 or idx2 < 0:\n",
    "            return float('inf')\n",
    "        min_prev_dp = float('inf')\n",
    "        for i in range(len(self._patterns)):\n",
    "            min_prev_dp = min(min_prev_dp, self.calculate_path(idx1, idx2, self._patterns[i], self._weights[i]))\n",
    "        self._map[(idx1, idx2)] = min_prev_dp\n",
    "        return self._map[(idx1, idx2)]\n",
    "    \n",
    "    @property\n",
    "    def dtw_matrix_dict(self):\n",
    "        return self._map\n",
    "\n",
    "    def print_dtw_matrix(self):\n",
    "        print('      '+' '.join([\"{:7d}\".format(i) for i in range(len(self._seq2))]))\n",
    "        for i in range(len(self._seq1)):\n",
    "            str = \"{:4d}: \".format(i)\n",
    "            for j in range(len(self._seq2)):\n",
    "                str+= \"{:7.3f} \".format(self._map[(i,j)])\n",
    "            print (str)\n",
    "    \n",
    "    def get_dtw(self):\n",
    "        g = self.calculate(len(self._seq1)-1, len(self._seq2)-1)\n",
    "        N = len(self._seq1) + len(self._seq2)\n",
    "        return g/N"
   ]
  },
  {
   "cell_type": "markdown",
   "metadata": {},
   "source": [
    "# Main"
   ]
  },
  {
   "cell_type": "markdown",
   "metadata": {},
   "source": [
    "# Main"
   ]
  },
  {
   "cell_type": "code",
   "execution_count": 9,
   "metadata": {
    "collapsed": true
   },
   "outputs": [],
   "source": [
    "import numpy as np\n",
    "seq1 = [1, 1, 2]\n",
    "seq2 = [0, 1, 1, 2, 3, 2]"
   ]
  },
  {
   "cell_type": "markdown",
   "metadata": {},
   "source": [
    "### Z-Normalization"
   ]
  },
  {
   "cell_type": "code",
   "execution_count": 14,
   "metadata": {
    "collapsed": false
   },
   "outputs": [],
   "source": [
    "seq1 = (np.array(seq1)-np.mean(seq1))/np.std(seq1)\n",
    "seq2 = (np.array(seq2)-np.mean(seq2))/np.std(seq2)"
   ]
  },
  {
   "cell_type": "code",
   "execution_count": 15,
   "metadata": {
    "collapsed": false
   },
   "outputs": [
    {
     "data": {
      "text/plain": [
       "0.44726426685650694"
      ]
     },
     "execution_count": 15,
     "metadata": {},
     "output_type": "execute_result"
    }
   ],
   "source": [
    "d = Dtw(seq1, seq2)\n",
    "d.get_dtw()"
   ]
  },
  {
   "cell_type": "code",
   "execution_count": 16,
   "metadata": {
    "collapsed": false
   },
   "outputs": [
    {
     "name": "stdout",
     "output_type": "stream",
     "text": [
      "            0       1       2       3       4       5\n",
      "   0:   1.500   1.583   1.667   2.250   3.500   4.083 \n",
      "   1:   2.250   1.583   1.667   2.250   3.500   4.083 \n",
      "   2:   3.750   2.417   2.417   1.833   2.333   2.500 \n"
     ]
    }
   ],
   "source": [
    "d.print_dtw_matrix()"
   ]
  },
  {
   "cell_type": "code",
   "execution_count": 17,
   "metadata": {
    "collapsed": false
   },
   "outputs": [
    {
     "data": {
      "text/plain": [
       "{(0, 0): 1.7191842448294659,\n",
       " (0, 1): 1.9040580581489199,\n",
       " (0, 2): 2.088931871468374,\n",
       " (0, 3): 3.3182716205220153,\n",
       " (0, 4): 5.5920773053098429,\n",
       " (0, 5): 6.8214170543634838,\n",
       " (1, 0): 2.578776367244199,\n",
       " (1, 1): 1.9040580581489199,\n",
       " (1, 2): 2.088931871468374,\n",
       " (1, 3): 3.3182716205220153,\n",
       " (1, 4): 5.5920773053098429,\n",
       " (1, 5): 6.8214170543634838,\n",
       " (2, 0): 5.5596888332185745,\n",
       " (2, 1): 3.8405045883891082,\n",
       " (2, 2): 3.8405045883891082,\n",
       " (2, 3): 2.9809124659743755,\n",
       " (2, 4): 3.1333978072025612,\n",
       " (2, 5): 4.0253784017085623}"
      ]
     },
     "execution_count": 17,
     "metadata": {},
     "output_type": "execute_result"
    }
   ],
   "source": [
    "d.dtw_matrix_dict"
   ]
  },
  {
   "cell_type": "code",
   "execution_count": null,
   "metadata": {
    "collapsed": true
   },
   "outputs": [],
   "source": []
  }
 ],
 "metadata": {
  "anaconda-cloud": {},
  "kernelspec": {
   "display_name": "Python [conda root]",
   "language": "python",
   "name": "conda-root-py"
  },
  "language_info": {
   "codemirror_mode": {
    "name": "ipython",
    "version": 3
   },
   "file_extension": ".py",
   "mimetype": "text/x-python",
   "name": "python",
   "nbconvert_exporter": "python",
   "pygments_lexer": "ipython3",
   "version": "3.5.2"
  }
 },
 "nbformat": 4,
 "nbformat_minor": 1
}
