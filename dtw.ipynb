{
 "cells": [
  {
   "cell_type": "code",
   "execution_count": 11,
   "metadata": {
    "collapsed": false
   },
   "outputs": [],
   "source": [
    "# -*- coding: utf-8 -*-\n",
    "\n",
    "class Dtw(object):\n",
    "    \n",
    "    def __init__(self, seq1, seq2,\n",
    "                 patterns = [(-1,-1), (-1,0), (0,-1)], \n",
    "                 weights = [{(0,0):2}, {(0,0):1}, {(0,0):1}], \n",
    "                 band_r=0.5):\n",
    "        self._seq1 = seq1\n",
    "        self._seq2 = seq2\n",
    "        self._r = min(10, band_r*max(len(seq1), len(seq2)))\n",
    "        assert len(patterns) == len(weights)\n",
    "        self._patterns = patterns\n",
    "        self._weights = weights\n",
    "        self._map = {(-1, -1): 0}\n",
    "    \n",
    "    def get_distance(self, idx1, idx2):\n",
    "        if idx1<0 or idx2<0 or idx1>=len(self._seq1) or idx2>=len(self._seq2):\n",
    "            return 0\n",
    "        return abs(self._seq1[idx1] - self._seq2[idx2])\n",
    "\n",
    "    def calculate_path(self, idx1, idx2, pattern, weight):\n",
    "        g = self.calculate(idx1+pattern[0], idx2+pattern[1])\n",
    "        sum_d = 0\n",
    "        for coor_offset, w in weight.items():\n",
    "            i1, i2 = map(sum, zip((idx1, idx2), coor_offset))\n",
    "            sum_d += self.get_distance(i1, i2)\n",
    "        return g + sum_d\n",
    "\n",
    "    def calculate(self, idx1, idx2):\n",
    "        if (idx1, idx2) in self._map:\n",
    "            return self._map[(idx1, idx2)]\n",
    "        if idx1 < 0 or idx2 < 0 or abs(idx1-idx2) > self._r:\n",
    "            return float('inf')\n",
    "        min_prev_dp = float('inf')\n",
    "        for i in range(len(self._patterns)):\n",
    "            min_prev_dp = min(min_prev_dp, self.calculate_path(idx1, idx2, self._patterns[i], self._weights[i]))\n",
    "        self._map[(idx1, idx2)] = min_prev_dp\n",
    "        return self._map[(idx1, idx2)]\n",
    "    \n",
    "    @property\n",
    "    def dtw_matrix_dict(self):\n",
    "        return self._map\n",
    "\n",
    "    def print_dtw_matrix(self):\n",
    "        print('      '+' '.join([\"{:^7d}\".format(i) for i in range(len(self._seq2))]))\n",
    "        for i in range(len(self._seq1)):\n",
    "            str = \"{:^4d}: \".format(i)\n",
    "            for j in range(len(self._seq2)):\n",
    "                if (i,j) not in self._map:\n",
    "                    str += \"{:^7s} \".format('-')\n",
    "                else:\n",
    "                    str += \"{:^7.3f} \".format(self._map[(i,j)])\n",
    "            print (str)\n",
    "    \n",
    "    def get_dtw(self):\n",
    "        g = self.calculate(len(self._seq1)-1, len(self._seq2)-1)\n",
    "        N = len(self._seq1) + len(self._seq2)\n",
    "        return g/N"
   ]
  },
  {
   "cell_type": "markdown",
   "metadata": {},
   "source": [
    "# Main"
   ]
  },
  {
   "cell_type": "markdown",
   "metadata": {},
   "source": [
    "### Different patterns"
   ]
  },
  {
   "cell_type": "code",
   "execution_count": 20,
   "metadata": {
    "collapsed": false
   },
   "outputs": [],
   "source": [
    "PATTERNS_1 = [(0,-1), (-1,-1), (-1,0)]\n",
    "WEIGHTS_SYM_1 = [{(0,0):1}, {(0,0):2}, {(0,0):1}] \n",
    "WEIGHTS_ASYM_1 = [{}, {(0,0):1}, {(0,0):1}] \n",
    "WEIGHTS_ASYM_1_2 = [{(0,0):100}, {(0,0):10}, {(0,0):1}] \n",
    "\n",
    "PATTERNS_2 = [(-1,-3), (-1,-2), (-1,-1), (-2,-1), (-3,-1)]\n",
    "WEIGHTS_SYM_2 = [{(0,-2):2, (0,-1):1, (0,0):1}, \\\n",
    "                 {(0,-1):2, (0,0):1}, \\\n",
    "                 {(0,0):2}, \\\n",
    "                 {(-1,0):2, (0,0):1}, \\\n",
    "                 {(-2,0):2, (-1,0):1, (0,0):1}] \n",
    "WEIGHTS_ASYM_2 = [{(0,-2):1, (0,-1):1, (0,0):1/3}, \\\n",
    "                  {(0,-1):1, (0,0):1/2}, \\\n",
    "                  {(0,0):1}, \\\n",
    "                  {(-1,0):1, (0,0):1}, \\\n",
    "                  {(-2,0):1, (-1,0):1, (0,0):1}] "
   ]
  },
  {
   "cell_type": "markdown",
   "metadata": {},
   "source": [
    "### Initiation"
   ]
  },
  {
   "cell_type": "code",
   "execution_count": 20,
   "metadata": {
    "collapsed": true
   },
   "outputs": [],
   "source": [
    "import numpy as np\n",
    "seq1 = [1, 1, 2, 9]*2\n",
    "seq2 = [0, 1, 1, 2]*2"
   ]
  },
  {
   "cell_type": "markdown",
   "metadata": {},
   "source": [
    "### Z-Normalization"
   ]
  },
  {
   "cell_type": "code",
   "execution_count": 14,
   "metadata": {
    "collapsed": false
   },
   "outputs": [],
   "source": [
    "seq1 = (np.array(seq1)-np.mean(seq1))/np.std(seq1)\n",
    "seq2 = (np.array(seq2)-np.mean(seq2))/np.std(seq2)"
   ]
  },
  {
   "cell_type": "markdown",
   "metadata": {},
   "source": [
    "### Calculate DTW"
   ]
  },
  {
   "cell_type": "markdown",
   "metadata": {},
   "source": [
    "#### Symmetric Pattern 1\n",
    "g(i, j) = min( g(i,j-1)+d(i,j),  g(i-1,j-1)+2d(i,j),  g(i-1,j)+d(i,j) )"
   ]
  },
  {
   "cell_type": "code",
   "execution_count": 15,
   "metadata": {
    "collapsed": false
   },
   "outputs": [
    {
     "data": {
      "text/plain": [
       "0.26160228246317752"
      ]
     },
     "execution_count": 15,
     "metadata": {},
     "output_type": "execute_result"
    }
   ],
   "source": [
    "d = Dtw(seq1, seq2, PATTERNS_1, WEIGHTS_SYM_1)\n",
    "d.get_dtw()"
   ]
  },
  {
   "cell_type": "code",
   "execution_count": 16,
   "metadata": {
    "collapsed": false
   },
   "outputs": [
    {
     "name": "stdout",
     "output_type": "stream",
     "text": [
      "         0       1       2       3       4       5       6       7   \n",
      " 0  :  0.742   1.414   2.087   4.174   4.915     -       -       -    \n",
      " 1  :  1.483   1.414   2.087   4.174   4.915   5.588     -       -    \n",
      " 2  :  2.524   1.788   1.788   3.576   4.616   4.990   5.364     -    \n",
      " 3  :  5.657   3.507   3.507   2.093   5.226   6.335   6.709   5.669  \n",
      " 4  :  6.398   4.180   4.180   4.180   2.834   3.507   4.180   6.267  \n",
      " 5  :    -     4.852   4.852   6.267   3.576   3.507   4.180   6.267  \n",
      " 6  :    -       -     5.226   6.640   4.616   3.881   3.881   5.669  \n",
      " 7  :    -       -       -     5.531   7.750   5.600   5.600   4.186  \n"
     ]
    }
   ],
   "source": [
    "d.print_dtw_matrix()"
   ]
  },
  {
   "cell_type": "markdown",
   "metadata": {},
   "source": [
    "#### Asymmetric Pattern 2\n",
    "g(i, j) = min( g(i,j-1),  g(i-1,j-1)+d(i,j),  g(i-1,j)+d(i,j) )"
   ]
  },
  {
   "cell_type": "code",
   "execution_count": 7,
   "metadata": {
    "collapsed": false
   },
   "outputs": [
    {
     "data": {
      "text/plain": [
       "0.25730038274945188"
      ]
     },
     "execution_count": 7,
     "metadata": {},
     "output_type": "execute_result"
    }
   ],
   "source": [
    "d = Dtw(seq1, seq2, PATTERNS_1, WEIGHTS_ASYM_1)\n",
    "d.get_dtw()"
   ]
  },
  {
   "cell_type": "code",
   "execution_count": 10,
   "metadata": {
    "collapsed": false,
    "scrolled": true
   },
   "outputs": [
    {
     "ename": "NameError",
     "evalue": "name 'd' is not defined",
     "output_type": "error",
     "traceback": [
      "\u001b[0;31m---------------------------------------------------------------------------\u001b[0m",
      "\u001b[0;31mNameError\u001b[0m                                 Traceback (most recent call last)",
      "\u001b[0;32m<ipython-input-10-1c6f6ed3fef5>\u001b[0m in \u001b[0;36m<module>\u001b[0;34m()\u001b[0m\n\u001b[0;32m----> 1\u001b[0;31m \u001b[0md\u001b[0m\u001b[0;34m.\u001b[0m\u001b[0mprint_dtw_matrix\u001b[0m\u001b[0;34m(\u001b[0m\u001b[0;34m)\u001b[0m\u001b[0;34m\u001b[0m\u001b[0m\n\u001b[0m",
      "\u001b[0;31mNameError\u001b[0m: name 'd' is not defined"
     ]
    }
   ],
   "source": [
    "d.print_dtw_matrix()"
   ]
  },
  {
   "cell_type": "markdown",
   "metadata": {},
   "source": [
    "#### Symmetric Pattern 2"
   ]
  },
  {
   "cell_type": "code",
   "execution_count": 9,
   "metadata": {
    "collapsed": false
   },
   "outputs": [
    {
     "data": {
      "text/plain": [
       "0.26160228246317752"
      ]
     },
     "execution_count": 9,
     "metadata": {},
     "output_type": "execute_result"
    }
   ],
   "source": [
    "d = Dtw(seq1, seq2, PATTERNS_2, WEIGHTS_SYM_2)\n",
    "d.get_dtw()"
   ]
  },
  {
   "cell_type": "code",
   "execution_count": 10,
   "metadata": {
    "collapsed": false
   },
   "outputs": [
    {
     "name": "stdout",
     "output_type": "stream",
     "text": [
      "         0       1       2       3       4       5       6       7   \n",
      " 0  :  0.742   1.414   2.087    inf     inf      -       -       -    \n",
      " 1  :  1.483   1.414   2.087   4.174   4.915   5.588     -       -    \n",
      " 2  :  2.455   1.788   1.788   3.576   4.616   5.289     -       -    \n",
      " 3  :   inf    3.507   3.507   2.093   5.226   6.335     -       -    \n",
      " 4  :   inf    4.249   2.766   4.180   2.834   3.507   4.180     -    \n",
      " 5  :    -     5.519   4.852   4.852   3.576   3.507   4.180     -    \n",
      " 6  :    -       -       -       -     4.548   3.881   3.881     -    \n",
      " 7  :    -       -       -       -       -       -       -     4.186  \n"
     ]
    }
   ],
   "source": [
    "d.print_dtw_matrix()"
   ]
  },
  {
   "cell_type": "markdown",
   "metadata": {},
   "source": [
    "#### Asymmetric Pattern 2"
   ]
  },
  {
   "cell_type": "code",
   "execution_count": 11,
   "metadata": {
    "collapsed": false
   },
   "outputs": [
    {
     "data": {
      "text/plain": [
       "0.26160228246317752"
      ]
     },
     "execution_count": 11,
     "metadata": {},
     "output_type": "execute_result"
    }
   ],
   "source": [
    "d = Dtw(seq1, seq2, PATTERNS_2, WEIGHTS_ASYM_2)\n",
    "d.get_dtw()"
   ]
  },
  {
   "cell_type": "code",
   "execution_count": 12,
   "metadata": {
    "collapsed": false,
    "scrolled": true
   },
   "outputs": [
    {
     "name": "stdout",
     "output_type": "stream",
     "text": [
      "         0       1       2       3       4       5       6       7   \n",
      " 0  :  0.742   1.414   2.087    inf     inf      -       -       -    \n",
      " 1  :  1.483   1.414   2.087   4.174   4.915   5.588     -       -    \n",
      " 2  :  2.455   1.788   1.788   3.576   4.616   5.289     -       -    \n",
      " 3  :   inf    3.507   3.507   2.093   5.226   6.335     -       -    \n",
      " 4  :   inf    4.249   2.766   4.180   2.834   3.507   4.180     -    \n",
      " 5  :    -     5.519   4.852   4.852   3.576   3.507   4.180     -    \n",
      " 6  :    -       -       -       -     4.548   3.881   3.881     -    \n",
      " 7  :    -       -       -       -       -       -       -     4.186  \n"
     ]
    }
   ],
   "source": [
    "d.print_dtw_matrix()"
   ]
  },
  {
   "cell_type": "markdown",
   "metadata": {},
   "source": [
    "# Implementation2"
   ]
  },
  {
   "cell_type": "code",
   "execution_count": 24,
   "metadata": {
    "collapsed": false
   },
   "outputs": [],
   "source": [
    "# -*- coding: utf-8 -*-\n",
    "\n",
    "class Dtw(object):\n",
    "    \n",
    "    def __init__(self, seq1, seq2,\n",
    "                 patterns = [(-1,-1), (-1,0), (0,-1)], \n",
    "                 weights = [{(0,0):2}, {(0,0):1}, {(0,0):1}], \n",
    "                 band_r=0.1):\n",
    "        self._seq1 = seq1\n",
    "        self._seq2 = seq2\n",
    "        self.len_seq1 = len(seq1)\n",
    "        self.len_seq2 = len(seq2)\n",
    "        self.len_pattern = len(patterns)\n",
    "        self.sum_w = [sum(ws.values()) for ws in weights]\n",
    "        self._r = len(seq1)//band_r\n",
    "        assert len(patterns) == len(weights)\n",
    "        self._patterns = patterns\n",
    "        self._weights = weights\n",
    "    \n",
    "    def get_distance(self, i1, i2):\n",
    "        return abs(self._seq1[i1] - self._seq2[i2])\n",
    "\n",
    "    def calculate(self):\n",
    "        g = list([float('inf')]*self.len_seq2 for i in range(self.len_seq1))\n",
    "        cost = list([0]*self.len_seq2 for i in range(self.len_seq1))\n",
    "\n",
    "        g[0][0] = 2*self.get_distance(0, 0)\n",
    "        for i in range(self.len_seq1):\n",
    "            for j in range(max(0,i-self._r), min(i+self._r+1, self.len_seq2)):\n",
    "                for pat_i in range(self.len_pattern):\n",
    "                    coor = (i+self._patterns[pat_i][0], j+self._patterns[pat_i][1])\n",
    "                    if coor[0]<0 or coor[1]<0:\n",
    "                        continue\n",
    "                    dist = 0\n",
    "                    for w_coor_offset, d_w in self._weights[pat_i].items():\n",
    "                        w_coor = (i+w_coor_offset[0], j+w_coor_offset[1])\n",
    "                        dist += d_w*self.get_distance(w_coor[0], w_coor[1])\n",
    "                    this_val = g[coor[0]][coor[1]] + dist\n",
    "                    this_cost = cost[coor[0]][coor[1]] + self.sum_w[pat_i]\n",
    "                    if this_val < g[i][j]:\n",
    "                        g[i][j] = this_val\n",
    "                        cost[i][j] = this_cost\n",
    "        return g[self.len_seq1-1][self.len_seq2-1]/cost[self.len_seq1-1][self.len_seq2-1], g, cost\n",
    "    \n",
    "    def print_table(self, tb):\n",
    "        print('      '+' '.join([\"{:^7d}\".format(i) for i in range(self.len_seq2)]))\n",
    "        for i in range(self.len_seq1):\n",
    "            str = \"{:^4d}: \".format(i)\n",
    "            for j in range(self.len_seq2):\n",
    "                str += \"{:^7.3f} \".format(tb[i][j])\n",
    "            print (str)\n",
    "\n",
    "    def print_g_matrix(self):\n",
    "        _, tb, _ = self.calculate()\n",
    "        self.print_table(tb)\n",
    "\n",
    "    def print_cost_matrix(self):\n",
    "        _, _, tb = self.calculate()\n",
    "        self.print_table(tb)\n",
    "        \n",
    "    def get_dtw(self):\n",
    "        ans, _, _ = self.calculate()\n",
    "        return ans"
   ]
  },
  {
   "cell_type": "code",
   "execution_count": 25,
   "metadata": {
    "collapsed": true
   },
   "outputs": [],
   "source": [
    "import numpy as np\n",
    "seq1 = [1, 1, 2, 9]*2\n",
    "seq2 = [0, 1, 1, 2]*2\n",
    "seq1 = (np.array(seq1)-np.mean(seq1))/np.std(seq1)\n",
    "seq2 = (np.array(seq2)-np.mean(seq2))/np.std(seq2)"
   ]
  },
  {
   "cell_type": "code",
   "execution_count": 26,
   "metadata": {
    "collapsed": false
   },
   "outputs": [
    {
     "data": {
      "text/plain": [
       "0.69404687184108327"
      ]
     },
     "execution_count": 26,
     "metadata": {},
     "output_type": "execute_result"
    }
   ],
   "source": [
    "d = Dtw(seq1, seq2, PATTERNS_1, WEIGHTS_ASYM_1)\n",
    "d.get_dtw()"
   ]
  },
  {
   "cell_type": "code",
   "execution_count": 27,
   "metadata": {
    "collapsed": false
   },
   "outputs": [
    {
     "name": "stdout",
     "output_type": "stream",
     "text": [
      "         0       1       2       3       4       5       6       7   \n",
      " 0  :  1.483   1.483   1.483   1.483   1.483   1.483   1.483   1.483  \n",
      " 1  :  2.225   2.156   2.156   2.156   2.156   2.156   2.156   2.156  \n",
      " 2  :  3.265   2.529   2.529   2.529   2.529   2.529   2.529   2.529  \n",
      " 3  :  6.398   4.249   4.249   2.834   2.834   2.834   2.834   2.834  \n",
      " 4  :  7.140   4.921   4.921   4.921   3.576   3.507   3.507   3.507  \n",
      " 5  :  7.881   5.594   5.594   5.594   4.317   4.180   4.180   4.180  \n",
      " 6  :  8.922   5.968   5.968   5.968   5.358   4.553   4.553   4.553  \n",
      " 7  : 12.055   7.687   7.687   6.273   6.273   6.273   6.273   4.858  \n"
     ]
    }
   ],
   "source": [
    "d.print_g_matrix()"
   ]
  },
  {
   "cell_type": "code",
   "execution_count": 28,
   "metadata": {
    "collapsed": false
   },
   "outputs": [
    {
     "name": "stdout",
     "output_type": "stream",
     "text": [
      "         0       1       2       3       4       5       6       7   \n",
      " 0  :  0.000   0.000   0.000   0.000   0.000   0.000   0.000   0.000  \n",
      " 1  :  1.000   1.000   1.000   1.000   1.000   1.000   1.000   1.000  \n",
      " 2  :  2.000   2.000   2.000   2.000   2.000   2.000   2.000   2.000  \n",
      " 3  :  3.000   3.000   3.000   3.000   3.000   3.000   3.000   3.000  \n",
      " 4  :  4.000   4.000   4.000   4.000   4.000   4.000   4.000   4.000  \n",
      " 5  :  5.000   5.000   5.000   5.000   5.000   5.000   5.000   5.000  \n",
      " 6  :  6.000   6.000   6.000   6.000   6.000   6.000   6.000   6.000  \n",
      " 7  :  7.000   7.000   7.000   7.000   7.000   7.000   7.000   7.000  \n"
     ]
    }
   ],
   "source": [
    "d.print_cost_matrix()"
   ]
  },
  {
   "cell_type": "markdown",
   "metadata": {},
   "source": [
    "## Test another series"
   ]
  },
  {
   "cell_type": "code",
   "execution_count": 32,
   "metadata": {
    "collapsed": false
   },
   "outputs": [
    {
     "name": "stdout",
     "output_type": "stream",
     "text": [
      "         0       1       2       3       4       5       6       7       8   \n",
      " 0  :  0.000   7.000  14.000  21.000  22.000  28.000  34.000  40.000  41.000  \n",
      " 1  :  6.000   2.000   3.000   4.000   9.000   9.000   9.000   9.000  16.000  \n",
      " 2  :  7.000   8.000   9.000  10.000   4.000   9.000  14.000  14.000  13.000  \n",
      " 3  :  9.000  13.000  14.000  15.000   5.000   9.000  13.000  17.000  16.000  \n",
      " 4  : 14.000  13.000  15.000  17.000   9.000   7.000   8.000   9.000  15.000  \n",
      " 5  : 22.000  14.000  15.000  16.000  16.000   9.000  10.000  11.000  20.000  \n",
      " 6  : 25.000  18.000  19.000  20.000  18.000  12.000  13.000  14.000  18.000  \n",
      " 7  : 25.000  25.000  26.000  27.000  19.000  18.000  19.000  20.000  16.000  \n"
     ]
    }
   ],
   "source": [
    "vec1=[1,7,2,3,6,9,4,1]\n",
    "vec2=[1,8,8,8,2,7,7,7,0]\n",
    "Dtw(vec1,vec2,PATTERNS_1,WEIGHTS_SYM_1).print_g_matrix()"
   ]
  },
  {
   "cell_type": "code",
   "execution_count": 33,
   "metadata": {
    "collapsed": false
   },
   "outputs": [
    {
     "name": "stdout",
     "output_type": "stream",
     "text": [
      "         0       1       2       3       4       5       6       7       8   \n",
      " 0  :  0.000   1.000   2.000   3.000   4.000   5.000   6.000   7.000   8.000  \n",
      " 1  :  1.000   2.000   3.000   4.000   5.000   6.000   7.000   8.000   9.000  \n",
      " 2  :  2.000   3.000   4.000   5.000   6.000   7.000   8.000   9.000  10.000  \n",
      " 3  :  3.000   4.000   5.000   6.000   7.000   8.000   9.000  10.000  11.000  \n",
      " 4  :  4.000   5.000   6.000   7.000   8.000   9.000  10.000  11.000  12.000  \n",
      " 5  :  5.000   6.000   7.000   8.000   9.000  10.000  11.000  12.000  13.000  \n",
      " 6  :  6.000   7.000   8.000   9.000  10.000  11.000  12.000  13.000  14.000  \n",
      " 7  :  7.000   8.000   9.000  10.000  11.000  12.000  13.000  14.000  15.000  \n"
     ]
    }
   ],
   "source": [
    "Dtw(vec1,vec2,PATTERNS_1,WEIGHTS_SYM_1).print_cost_matrix()"
   ]
  },
  {
   "cell_type": "code",
   "execution_count": 36,
   "metadata": {
    "collapsed": false
   },
   "outputs": [
    {
     "data": {
      "text/plain": [
       "1.0666666666666667"
      ]
     },
     "execution_count": 36,
     "metadata": {},
     "output_type": "execute_result"
    }
   ],
   "source": [
    "Dtw(vec1,vec2,PATTERNS_1,WEIGHTS_SYM_1).get_dtw()"
   ]
  },
  {
   "cell_type": "code",
   "execution_count": 34,
   "metadata": {
    "collapsed": false
   },
   "outputs": [
    {
     "name": "stdout",
     "output_type": "stream",
     "text": [
      "         0       1       2       3       4       5       6       7       8   \n",
      " 0  :  0.000  700.000 1400.000 2100.000 2200.000 2800.000 3400.000 4000.000 4100.000 \n",
      " 1  :  6.000  10.000  110.000 210.000 710.000 710.000 710.000 710.000 1410.000 \n",
      " 2  :  7.000  16.000  70.000  170.000 170.000 670.000 715.000 715.000 730.000 \n",
      " 3  :  9.000  21.000  66.000  120.000 171.000 210.000 610.000 719.000 733.000 \n",
      " 4  : 14.000  23.000  41.000  86.000  160.000 181.000 220.000 320.000 739.000 \n",
      " 5  : 22.000  24.000  33.000  51.000  156.000 180.000 201.000 240.000 410.000 \n",
      " 6  : 25.000  28.000  37.000  55.000  71.000  183.000 204.000 231.000 280.000 \n",
      " 7  : 25.000  35.000  44.000  62.000  65.000  131.000 210.000 237.000 241.000 \n"
     ]
    }
   ],
   "source": [
    "Dtw(vec1, vec2, PATTERNS_1, WEIGHTS_ASYM_1_2).print_g_matrix()"
   ]
  },
  {
   "cell_type": "code",
   "execution_count": 35,
   "metadata": {
    "collapsed": false
   },
   "outputs": [
    {
     "name": "stdout",
     "output_type": "stream",
     "text": [
      "         0       1       2       3       4       5       6       7       8   \n",
      " 0  :  0.000  100.000 200.000 300.000 400.000 500.000 600.000 700.000 800.000 \n",
      " 1  :  1.000  10.000  110.000 210.000 310.000 410.000 510.000 610.000 710.000 \n",
      " 2  :  2.000  11.000  20.000  120.000 220.000 320.000 511.000 611.000 620.000 \n",
      " 3  :  3.000  12.000  21.000  30.000  221.000 230.000 330.000 612.000 621.000 \n",
      " 4  :  4.000  13.000  22.000  31.000  40.000  231.000 240.000 340.000 622.000 \n",
      " 5  :  5.000  14.000  23.000  32.000  41.000  50.000  241.000 250.000 350.000 \n",
      " 6  :  6.000  15.000  24.000  33.000  42.000  51.000  242.000 251.000 260.000 \n",
      " 7  :  7.000  16.000  25.000  34.000  43.000  52.000  243.000 252.000 261.000 \n"
     ]
    }
   ],
   "source": [
    "Dtw(vec1, vec2, PATTERNS_1, WEIGHTS_ASYM_1_2).print_cost_matrix()"
   ]
  },
  {
   "cell_type": "code",
   "execution_count": 37,
   "metadata": {
    "collapsed": false
   },
   "outputs": [
    {
     "data": {
      "text/plain": [
       "0.9233716475095786"
      ]
     },
     "execution_count": 37,
     "metadata": {},
     "output_type": "execute_result"
    }
   ],
   "source": [
    "Dtw(vec1,vec2,PATTERNS_1,WEIGHTS_ASYM_1_2).get_dtw()"
   ]
  },
  {
   "cell_type": "code",
   "execution_count": null,
   "metadata": {
    "collapsed": true
   },
   "outputs": [],
   "source": []
  }
 ],
 "metadata": {
  "anaconda-cloud": {},
  "kernelspec": {
   "display_name": "Python [conda root]",
   "language": "python",
   "name": "conda-root-py"
  },
  "language_info": {
   "codemirror_mode": {
    "name": "ipython",
    "version": 3
   },
   "file_extension": ".py",
   "mimetype": "text/x-python",
   "name": "python",
   "nbconvert_exporter": "python",
   "pygments_lexer": "ipython3",
   "version": "3.5.2"
  }
 },
 "nbformat": 4,
 "nbformat_minor": 1
}
