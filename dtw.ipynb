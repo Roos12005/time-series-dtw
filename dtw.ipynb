{
 "cells": [
  {
   "cell_type": "code",
   "execution_count": 181,
   "metadata": {
    "collapsed": false
   },
   "outputs": [],
   "source": [
    "# -*- coding: utf-8 -*-\n",
    "\n",
    "class Dtw(object):\n",
    "    \n",
    "    def __init__(self, seq1, seq2,\n",
    "                 patterns = [(-1,-1), (-1,0), (0,-1)], \n",
    "                 weights = [{(0,0):2}, {(0,0):1}, {(0,0):1}], \n",
    "                 band_r=0.5):\n",
    "        self._seq1 = seq1\n",
    "        self._seq2 = seq2\n",
    "        self._r = min(10, band_r*max(len(seq1), len(seq2)))\n",
    "        assert len(patterns) == len(weights)\n",
    "        self._patterns = patterns\n",
    "        self._weights = weights\n",
    "        self._map = {(0, 0): 2*self.get_distance(0,0)}\n",
    "    \n",
    "    def get_distance(self, idx1, idx2):\n",
    "        if idx1<0 or idx2<0 or idx1>=len(self._seq1) or idx2>=len(self._seq2):\n",
    "            return 0\n",
    "        return abs(self._seq1[idx1] - self._seq2[idx2])\n",
    "\n",
    "    def calculate_path(self, idx1, idx2, pattern, weight):\n",
    "        g = self.calculate(idx1+pattern[0], idx2+pattern[1])\n",
    "        sum_d = 0\n",
    "        for coor_offset, w in weight.items():\n",
    "            i1, i2 = map(sum, zip((idx1, idx2), coor_offset))\n",
    "            sum_d += self.get_distance(i1, i2)\n",
    "        return g + sum_d\n",
    "\n",
    "    def calculate(self, idx1, idx2):\n",
    "        if (idx1, idx2) in self._map:\n",
    "            return self._map[(idx1, idx2)]\n",
    "        if idx1 < 0 or idx2 < 0 or abs(idx1-idx2) > self._r:\n",
    "            return float('inf')\n",
    "        min_prev_dp = float('inf')\n",
    "        for i in range(len(self._patterns)):\n",
    "            min_prev_dp = min(min_prev_dp, self.calculate_path(idx1, idx2, self._patterns[i], self._weights[i]))\n",
    "        self._map[(idx1, idx2)] = min_prev_dp\n",
    "        return self._map[(idx1, idx2)]\n",
    "    \n",
    "    @property\n",
    "    def dtw_matrix_dict(self):\n",
    "        return self._map\n",
    "\n",
    "    def print_dtw_matrix(self):\n",
    "        print('      '+' '.join([\"{:^7d}\".format(i) for i in range(len(self._seq2))]))\n",
    "        for i in range(len(self._seq1)):\n",
    "            str = \"{:^4d}: \".format(i)\n",
    "            for j in range(len(self._seq2)):\n",
    "                if (i,j) not in self._map:\n",
    "                    str += \"{:^7s} \".format('-')\n",
    "                else:\n",
    "                    str += \"{:^7.3f} \".format(self._map[(i,j)])\n",
    "            print (str)\n",
    "    \n",
    "    def get_dtw(self):\n",
    "        g = self.calculate(len(self._seq1)-1, len(self._seq2)-1)\n",
    "        N = len(self._seq1) + len(self._seq2)\n",
    "        return g/N"
   ]
  },
  {
   "cell_type": "markdown",
   "metadata": {},
   "source": [
    "# Main"
   ]
  },
  {
   "cell_type": "markdown",
   "metadata": {},
   "source": [
    "### Different patterns"
   ]
  },
  {
   "cell_type": "code",
   "execution_count": 182,
   "metadata": {
    "collapsed": false
   },
   "outputs": [],
   "source": [
    "PATTERNS_1 = [(0,-1), (-1,-1), (-1,0)]\n",
    "WEIGHTS_SYM_1 = [{(0,0):1}, {(0,0):2}, {(0,0):1}] \n",
    "WEIGHTS_ASYM_1 = [{}, {(0,0):1}, {(0,0):1}] \n",
    "\n",
    "PATTERNS_2 = [(-1,-3), (-1,-2), (-1,-1), (-2,-1), (-3,-1)]\n",
    "WEIGHTS_SYM_2 = [{(0,-2):2, (0,-1):1, (0,0):1}, \\\n",
    "                 {(0,-1):2, (0,0):1}, \\\n",
    "                 {(0,0):2}, \\\n",
    "                 {(-1,0):2, (0,0):1}, \\\n",
    "                 {(-2,0):2, (-1,1):1, (0,0):1}] \n",
    "WEIGHTS_ASYM_2 = [{(0,-2):1, (0,-1):1, (0,0):1/3}, \\\n",
    "                  {(0,-1):1, (0,0):1/2}, \\\n",
    "                  {(0,0):1}, \\\n",
    "                  {(-1,0):1, (0,0):1}, \\\n",
    "                  {(-2,0):1, (-1,1):1, (0,0):1}] "
   ]
  },
  {
   "cell_type": "markdown",
   "metadata": {},
   "source": [
    "### Initiation"
   ]
  },
  {
   "cell_type": "code",
   "execution_count": 183,
   "metadata": {
    "collapsed": true
   },
   "outputs": [],
   "source": [
    "import numpy as np\n",
    "seq1 = [1, 1, 2, 9]*2\n",
    "seq2 = [0, 1, 1, 2]*2"
   ]
  },
  {
   "cell_type": "markdown",
   "metadata": {},
   "source": [
    "### Z-Normalization"
   ]
  },
  {
   "cell_type": "code",
   "execution_count": 184,
   "metadata": {
    "collapsed": false
   },
   "outputs": [],
   "source": [
    "seq1 = (np.array(seq1)-np.mean(seq1))/np.std(seq1)\n",
    "seq2 = (np.array(seq2)-np.mean(seq2))/np.std(seq2)"
   ]
  },
  {
   "cell_type": "markdown",
   "metadata": {},
   "source": [
    "### Calculate DTW"
   ]
  },
  {
   "cell_type": "markdown",
   "metadata": {},
   "source": [
    "#### Symmetric Pattern 1\n",
    "g(i, j) = min( g(i,j-1)+d(i,j),  g(i-1,j-1)+2d(i,j),  g(i-1,j)+d(i,j) )"
   ]
  },
  {
   "cell_type": "code",
   "execution_count": 185,
   "metadata": {
    "collapsed": false
   },
   "outputs": [
    {
     "data": {
      "text/plain": [
       "0.30794740614419958"
      ]
     },
     "execution_count": 185,
     "metadata": {},
     "output_type": "execute_result"
    }
   ],
   "source": [
    "d = Dtw(seq1, seq2, PATTERNS_1, WEIGHTS_SYM_1)\n",
    "d.get_dtw()"
   ]
  },
  {
   "cell_type": "code",
   "execution_count": 186,
   "metadata": {
    "collapsed": false
   },
   "outputs": [
    {
     "name": "stdout",
     "output_type": "stream",
     "text": [
      "         0       1       2       3       4       5       6       7   \n",
      " 0  :  1.483   2.156   2.828   4.915   5.657     -       -       -    \n",
      " 1  :  2.225   2.156   2.828   4.915   5.657   6.330     -       -    \n",
      " 2  :  3.265   2.529   2.529   4.317   5.358   5.732   6.105     -    \n",
      " 3  :  6.398   4.249   4.249   2.834   5.968   7.077   7.451   6.410  \n",
      " 4  :  7.140   4.921   4.921   4.921   3.576   4.249   4.921   7.008  \n",
      " 5  :    -     5.594   5.594   7.008   4.317   4.249   4.921   7.008  \n",
      " 6  :    -       -     5.968   7.382   5.358   4.622   4.622   6.410  \n",
      " 7  :    -       -       -     6.273   8.491   6.341   6.341   4.927  \n"
     ]
    }
   ],
   "source": [
    "d.print_dtw_matrix()"
   ]
  },
  {
   "cell_type": "markdown",
   "metadata": {},
   "source": [
    "#### Asymmetric Pattern 2\n",
    "g(i, j) = min( g(i,j-1),  g(i-1,j-1)+d(i,j),  g(i-1,j)+d(i,j) )"
   ]
  },
  {
   "cell_type": "code",
   "execution_count": 187,
   "metadata": {
    "collapsed": false
   },
   "outputs": [
    {
     "data": {
      "text/plain": [
       "0.30364550643047394"
      ]
     },
     "execution_count": 187,
     "metadata": {},
     "output_type": "execute_result"
    }
   ],
   "source": [
    "d = Dtw(seq1, seq2, PATTERNS_1, WEIGHTS_ASYM_1)\n",
    "d.get_dtw()"
   ]
  },
  {
   "cell_type": "code",
   "execution_count": 188,
   "metadata": {
    "collapsed": false,
    "scrolled": true
   },
   "outputs": [
    {
     "name": "stdout",
     "output_type": "stream",
     "text": [
      "         0       1       2       3       4       5       6       7   \n",
      " 0  :  1.483   1.483   1.483   1.483   1.483     -       -       -    \n",
      " 1  :  2.225   2.156   2.156   2.156   2.156   2.156     -       -    \n",
      " 2  :  3.265   2.529   2.529   2.529   2.529   2.529   2.529     -    \n",
      " 3  :  6.398   4.249   4.249   2.834   2.834   2.834   2.834   2.834  \n",
      " 4  :  7.140   4.921   4.921   4.921   3.576   3.507   3.507   3.507  \n",
      " 5  :    -     5.594   5.594   5.594   4.317   4.180   4.180   4.180  \n",
      " 6  :    -       -     5.968   5.968   5.358   4.553   4.553   4.553  \n",
      " 7  :    -       -       -     6.273   6.273   6.273   6.273   4.858  \n"
     ]
    }
   ],
   "source": [
    "d.print_dtw_matrix()"
   ]
  },
  {
   "cell_type": "markdown",
   "metadata": {},
   "source": [
    "#### Symmetric Pattern 2"
   ]
  },
  {
   "cell_type": "code",
   "execution_count": 189,
   "metadata": {
    "collapsed": false
   },
   "outputs": [
    {
     "data": {
      "text/plain": [
       "0.30794740614419958"
      ]
     },
     "execution_count": 189,
     "metadata": {},
     "output_type": "execute_result"
    }
   ],
   "source": [
    "d = Dtw(seq1, seq2, PATTERNS_2, WEIGHTS_SYM_2)\n",
    "d.get_dtw()"
   ]
  },
  {
   "cell_type": "code",
   "execution_count": 190,
   "metadata": {
    "collapsed": false
   },
   "outputs": [
    {
     "name": "stdout",
     "output_type": "stream",
     "text": [
      "         0       1       2       3       4       5       6       7   \n",
      " 0  :  1.483    inf     inf     inf     inf      -       -       -    \n",
      " 1  :   inf    2.156   2.828   4.915    inf     inf      -       -    \n",
      " 2  :   inf    2.529   2.529   4.317   5.358   6.031     -       -    \n",
      " 3  :   inf    4.249   4.249   2.834   5.968   7.077     -       -    \n",
      " 4  :   inf     inf    3.507   4.921   3.576   4.249   4.921     -    \n",
      " 5  :    -      inf    5.594   5.594   4.317   4.249   4.921     -    \n",
      " 6  :    -       -       -       -     5.289   4.622   4.622     -    \n",
      " 7  :    -       -       -       -       -       -       -     4.927  \n"
     ]
    }
   ],
   "source": [
    "d.print_dtw_matrix()"
   ]
  },
  {
   "cell_type": "markdown",
   "metadata": {},
   "source": [
    "#### Asymmetric Pattern 2"
   ]
  },
  {
   "cell_type": "code",
   "execution_count": 191,
   "metadata": {
    "collapsed": false
   },
   "outputs": [
    {
     "data": {
      "text/plain": [
       "0.30794740614419958"
      ]
     },
     "execution_count": 191,
     "metadata": {},
     "output_type": "execute_result"
    }
   ],
   "source": [
    "d = Dtw(seq1, seq2, PATTERNS_2, WEIGHTS_ASYM_2)\n",
    "d.get_dtw()"
   ]
  },
  {
   "cell_type": "code",
   "execution_count": 192,
   "metadata": {
    "collapsed": false,
    "scrolled": true
   },
   "outputs": [
    {
     "name": "stdout",
     "output_type": "stream",
     "text": [
      "         0       1       2       3       4       5       6       7   \n",
      " 0  :  1.483    inf     inf     inf     inf      -       -       -    \n",
      " 1  :   inf    2.156   2.828   4.915    inf     inf      -       -    \n",
      " 2  :   inf    2.529   2.529   4.317   5.358   6.031     -       -    \n",
      " 3  :   inf    4.249   4.249   2.834   5.968   7.077     -       -    \n",
      " 4  :   inf     inf    3.507   4.921   3.576   4.249   4.921     -    \n",
      " 5  :    -      inf    5.594   5.594   4.317   4.249   4.921     -    \n",
      " 6  :    -       -       -       -     5.289   4.622   4.622     -    \n",
      " 7  :    -       -       -       -       -       -       -     4.927  \n"
     ]
    }
   ],
   "source": [
    "d.print_dtw_matrix()"
   ]
  },
  {
   "cell_type": "code",
   "execution_count": null,
   "metadata": {
    "collapsed": true
   },
   "outputs": [],
   "source": []
  }
 ],
 "metadata": {
  "anaconda-cloud": {},
  "kernelspec": {
   "display_name": "Python [conda root]",
   "language": "python",
   "name": "conda-root-py"
  },
  "language_info": {
   "codemirror_mode": {
    "name": "ipython",
    "version": 3
   },
   "file_extension": ".py",
   "mimetype": "text/x-python",
   "name": "python",
   "nbconvert_exporter": "python",
   "pygments_lexer": "ipython3",
   "version": "3.5.2"
  }
 },
 "nbformat": 4,
 "nbformat_minor": 1
}
