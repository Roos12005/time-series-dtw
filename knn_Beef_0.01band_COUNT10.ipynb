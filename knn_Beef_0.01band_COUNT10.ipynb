{
 "cells": [
  {
   "cell_type": "markdown",
   "metadata": {},
   "source": [
    "# KNN & DTW"
   ]
  },
  {
   "cell_type": "code",
   "execution_count": 1,
   "metadata": {
    "collapsed": true
   },
   "outputs": [],
   "source": [
    "# -*- coding: utf-8 -*-\n",
    "\n",
    "class Dtw(object):\n",
    "    \n",
    "    def __init__(self, seq1, seq2,\n",
    "                 patterns = [(-1,-1), (-1,0), (0,-1)], \n",
    "                 weights = [{(0,0):2}, {(0,0):1}, {(0,0):1}], \n",
    "                 band_r=0.005):\n",
    "        self._seq1 = seq1\n",
    "        self._seq2 = seq2\n",
    "        self.len_seq1 = len(seq1)\n",
    "        self.len_seq2 = len(seq2)\n",
    "        self.len_pattern = len(patterns)\n",
    "        self.sum_w = [sum(ws.values()) for ws in weights]\n",
    "        self._r = int(len(seq1)*band_r)\n",
    "        assert len(patterns) == len(weights)\n",
    "        self._patterns = patterns\n",
    "        self._weights = weights\n",
    "    \n",
    "    def get_distance(self, i1, i2):\n",
    "        return abs(self._seq1[i1] - self._seq2[i2])\n",
    "\n",
    "    def calculate(self):\n",
    "        g = list([float('inf')]*self.len_seq2 for i in range(self.len_seq1))\n",
    "        cost = list([0]*self.len_seq2 for i in range(self.len_seq1))\n",
    "\n",
    "        g[0][0] = 2*self.get_distance(0, 0)\n",
    "        for i in range(self.len_seq1):\n",
    "            for j in range(max(0,i-self._r), min(i+self._r+1, self.len_seq2)):\n",
    "                for pat_i in range(self.len_pattern):\n",
    "                    coor = (i+self._patterns[pat_i][0], j+self._patterns[pat_i][1])\n",
    "                    if coor[0]<0 or coor[1]<0:\n",
    "                        continue\n",
    "                    dist = 0\n",
    "                    for w_coor_offset, d_w in self._weights[pat_i].items():\n",
    "                        w_coor = (i+w_coor_offset[0], j+w_coor_offset[1])\n",
    "                        dist += d_w*self.get_distance(w_coor[0], w_coor[1])\n",
    "                    this_val = g[coor[0]][coor[1]] + dist\n",
    "                    this_cost = cost[coor[0]][coor[1]] + self.sum_w[pat_i]\n",
    "                    if this_val < g[i][j]:\n",
    "                        g[i][j] = this_val\n",
    "                        cost[i][j] = this_cost\n",
    "        return g[self.len_seq1-1][self.len_seq2-1]/cost[self.len_seq1-1][self.len_seq2-1], g, cost\n",
    "    \n",
    "    def print_table(self, tb):\n",
    "        print('      '+' '.join([\"{:^7d}\".format(i) for i in range(self.len_seq2)]))\n",
    "        for i in range(self.len_seq1):\n",
    "            str = \"{:^4d}: \".format(i)\n",
    "            for j in range(self.len_seq2):\n",
    "                str += \"{:^7.3f} \".format(tb[i][j])\n",
    "            print (str)\n",
    "\n",
    "    def print_g_matrix(self):\n",
    "        _, tb, _ = self.calculate()\n",
    "        self.print_table(tb)\n",
    "\n",
    "    def print_cost_matrix(self):\n",
    "        _, _, tb = self.calculate()\n",
    "        self.print_table(tb)\n",
    "        \n",
    "    def get_dtw(self):\n",
    "        ans, _, _ = self.calculate()\n",
    "        return ans"
   ]
  },
  {
   "cell_type": "code",
   "execution_count": 2,
   "metadata": {
    "collapsed": false
   },
   "outputs": [],
   "source": [
    "import csv\n",
    "import random\n",
    "import math\n",
    "import operator\n",
    "import numpy as np\n",
    " \n",
    "def loadDataset(filename, data=[]):\n",
    "    with open(filename, 'rb') as csvfile:\n",
    "        lines = csv.reader(csvfile,delimiter=' ')\n",
    "        dataset = list(lines)\n",
    "        for x in range(len(dataset)):\n",
    "            dataset[x] = filter(None, dataset[x])\n",
    "            dataset[x] = list(map(float, dataset[x]))\n",
    "            data.append(dataset[x])\n",
    "\n",
    "def euclideanDistance(instance1, instance2, length):\n",
    "\tdistance = 0\n",
    "\tfor x in range(length):\n",
    "\t\tif x == 0:\n",
    "\t\t\tcontinue\n",
    "\t\tdistance += pow((instance1[x] - instance2[x]), 2)\n",
    "\treturn math.sqrt(distance)\n",
    " \n",
    "def getNeighbors(trainingSet, testInstance, k, pattern, weight):\n",
    "\tdistances = []\n",
    "\tlength = len(testInstance)\n",
    "\tfor x in range(len(trainingSet)):\n",
    "#  z-normalization\n",
    "\t\tnew_testInstance = (np.array(testInstance)-np.mean(testInstance))/np.std(testInstance)\n",
    "\t\tnew_trainingSet = (np.array(trainingSet[x])-np.mean(trainingSet[x]))/np.std(trainingSet[x])\n",
    "\t\td = Dtw(new_testInstance[1:], new_trainingSet[1:], pattern, weight)\n",
    "\t\tdist = d.get_dtw()\n",
    "# \t\tdist = euclideanDistance(testInstance, trainingSet[x], length)\n",
    "\t\tdistances.append((trainingSet[x], dist))\n",
    "\tdistances.sort(key=operator.itemgetter(1))\n",
    "#  \tprint \"dist >>>> \",distances\n",
    "\tneighbors = []\n",
    "\tfor x in range(k):\n",
    "\t\tneighbors.append(distances[x][0])\n",
    "\treturn neighbors\n",
    "\n",
    "def getResponse(neighbors):\n",
    "\tclassVotes = {}\n",
    "\tfor x in range(len(neighbors)):\n",
    "\t\tresponse = neighbors[x][0]\n",
    "\t\tif response in classVotes:\n",
    "\t\t\tclassVotes[response] += 1\n",
    "\t\telse:\n",
    "\t\t\tclassVotes[response] = 1\n",
    "\tsortedVotes = sorted(classVotes.iteritems(), key=operator.itemgetter(1), reverse=True)\n",
    "\treturn sortedVotes[0][0]\n",
    " \n",
    "def getAccuracy(testSet, predictions):\n",
    "\tcorrect = 0\n",
    "\tfor x in range(len(testSet)):\n",
    "\t\tif testSet[x][0] == predictions[x]:\n",
    "\t\t\tcorrect += 1\n",
    "\treturn (correct/float(len(testSet))) * 100.0\n",
    "\t\n",
    "def knn(train_data, test_data, k, pattern, weight):\n",
    "\t# prepare data\n",
    "\ttrainingSet=[]\n",
    "\ttestSet=[]\n",
    "\tloadDataset(train_data, trainingSet)\n",
    "\tloadDataset(test_data, testSet)\n",
    "# \tprint 'Train set: ' + repr(len(trainingSet))\n",
    "# \tprint trainingSet\n",
    "# \tprint 'Test set: ' + repr(len(testSet))\n",
    "# \tprint testSet\n",
    "\t# generate predictions\n",
    "\tpredictions=[]\n",
    "\tfor x in range(len(testSet)):\n",
    "# \t\tprint \">>\",testSet[x]\n",
    "\t\tneighbors = getNeighbors(trainingSet, testSet[x], k, pattern, weight)\n",
    "# \t\tprint \"neighbors >>\", neighbors\n",
    "\t\tresult = getResponse(neighbors)\n",
    "# \t\tprint \"result >>\", result\n",
    "\t\tpredictions.append(result)\n",
    "# \t\tprint('> predicted=' + repr(result) + ', actual=' + repr(testSet[x][0]))\n",
    "\taccuracy = getAccuracy(testSet, predictions)\n",
    "\treturn accuracy\n",
    "    \n"
   ]
  },
  {
   "cell_type": "markdown",
   "metadata": {},
   "source": [
    "# Main"
   ]
  },
  {
   "cell_type": "code",
   "execution_count": 3,
   "metadata": {
    "collapsed": true
   },
   "outputs": [],
   "source": [
    "PATTERNS_1 = [(0,-1), (-1,-1), (-1,0)]\n",
    "WEIGHTS_SYM_1 = [{(0,0):1}, {(0,0):2}, {(0,0):1}] "
   ]
  },
  {
   "cell_type": "code",
   "execution_count": 4,
   "metadata": {
    "collapsed": true
   },
   "outputs": [],
   "source": [
    "COUNT = 10\n",
    "weights = []\n",
    "for i in range(COUNT+1):\n",
    "    for j in range(COUNT-i):\n",
    "        k = COUNT - j\n",
    "        weights.append([{(0,0):i}, {(0,0):j}, {(0,0):k}])"
   ]
  },
  {
   "cell_type": "code",
   "execution_count": 5,
   "metadata": {
    "collapsed": true
   },
   "outputs": [],
   "source": [
    "TRAIN_DATA = 'dataset/Beef_TRAIN'\n",
    "TEST_DATA = 'dataset/Beef_TEST'\n",
    "OUTPUT_FILE = 'count10_acc_Beef_0.01band.csv'"
   ]
  },
  {
   "cell_type": "code",
   "execution_count": 6,
   "metadata": {
    "collapsed": false
   },
   "outputs": [
    {
     "data": {
      "text/plain": [
       "70.0"
      ]
     },
     "execution_count": 6,
     "metadata": {},
     "output_type": "execute_result"
    }
   ],
   "source": [
    "knn(TRAIN_DATA, TEST_DATA, 1, PATTERNS_1, WEIGHTS_SYM_1)"
   ]
  },
  {
   "cell_type": "code",
   "execution_count": 7,
   "metadata": {
    "collapsed": false
   },
   "outputs": [
    {
     "name": "stdout",
     "output_type": "stream",
     "text": [
      "i: 0 j: 0 k: 10\n"
     ]
    },
    {
     "name": "stderr",
     "output_type": "stream",
     "text": [
      "/opt/conda/envs/py27/lib/python2.7/site-packages/ipykernel/__main__.py:43: RuntimeWarning: divide by zero encountered in double_scalars\n"
     ]
    },
    {
     "name": "stdout",
     "output_type": "stream",
     "text": [
      "20.0\n",
      "i: 0 j: 1 k: 9\n",
      "73.3333333333\n",
      "i: 0 j: 2 k: 8\n",
      "73.3333333333\n",
      "i: 0 j: 3 k: 7\n",
      "70.0\n",
      "i: 0 j: 4 k: 6\n",
      "66.6666666667\n",
      "i: 0 j: 5 k: 5\n",
      "66.6666666667\n",
      "i: 0 j: 6 k: 4\n",
      "70.0\n",
      "i: 0 j: 7 k: 3\n",
      "73.3333333333\n",
      "i: 0 j: 8 k: 2\n",
      "73.3333333333\n",
      "i: 0 j: 9 k: 1\n",
      "73.3333333333\n",
      "i: 1 j: 0 k: 10\n",
      "20.0\n",
      "i: 1 j: 1 k: 9\n",
      "70.0\n",
      "i: 1 j: 2 k: 8\n",
      "70.0\n",
      "i: 1 j: 3 k: 7\n",
      "70.0\n",
      "i: 1 j: 4 k: 6\n",
      "66.6666666667\n",
      "i: 1 j: 5 k: 5\n",
      "66.6666666667\n",
      "i: 1 j: 6 k: 4\n",
      "70.0\n",
      "i: 1 j: 7 k: 3\n",
      "70.0\n",
      "i: 1 j: 8 k: 2\n",
      "70.0\n",
      "i: 2 j: 0 k: 10\n",
      "20.0\n",
      "i: 2 j: 1 k: 9\n",
      "70.0\n",
      "i: 2 j: 2 k: 8\n",
      "73.3333333333\n",
      "i: 2 j: 3 k: 7\n",
      "66.6666666667\n",
      "i: 2 j: 4 k: 6\n",
      "66.6666666667\n",
      "i: 2 j: 5 k: 5\n",
      "70.0\n",
      "i: 2 j: 6 k: 4\n",
      "70.0\n",
      "i: 2 j: 7 k: 3\n",
      "70.0\n",
      "i: 3 j: 0 k: 10\n",
      "20.0\n",
      "i: 3 j: 1 k: 9\n",
      "73.3333333333\n",
      "i: 3 j: 2 k: 8\n",
      "73.3333333333\n",
      "i: 3 j: 3 k: 7\n",
      "70.0\n",
      "i: 3 j: 4 k: 6\n",
      "66.6666666667\n",
      "i: 3 j: 5 k: 5\n",
      "70.0\n",
      "i: 3 j: 6 k: 4\n",
      "70.0\n",
      "i: 4 j: 0 k: 10\n",
      "20.0\n",
      "i: 4 j: 1 k: 9\n",
      "73.3333333333\n",
      "i: 4 j: 2 k: 8\n",
      "70.0\n",
      "i: 4 j: 3 k: 7\n",
      "70.0\n",
      "i: 4 j: 4 k: 6\n",
      "70.0\n",
      "i: 4 j: 5 k: 5\n",
      "70.0\n",
      "i: 5 j: 0 k: 10\n",
      "20.0\n",
      "i: 5 j: 1 k: 9\n",
      "70.0\n",
      "i: 5 j: 2 k: 8\n",
      "66.6666666667\n",
      "i: 5 j: 3 k: 7\n",
      "70.0\n",
      "i: 5 j: 4 k: 6\n",
      "70.0\n",
      "i: 6 j: 0 k: 10\n",
      "20.0\n",
      "i: 6 j: 1 k: 9\n",
      "70.0\n",
      "i: 6 j: 2 k: 8\n",
      "70.0\n",
      "i: 6 j: 3 k: 7\n",
      "70.0\n",
      "i: 7 j: 0 k: 10\n",
      "20.0\n",
      "i: 7 j: 1 k: 9\n",
      "66.6666666667\n",
      "i: 7 j: 2 k: 8\n",
      "70.0\n",
      "i: 8 j: 0 k: 10\n",
      "20.0\n",
      "i: 8 j: 1 k: 9\n",
      "66.6666666667\n",
      "i: 9 j: 0 k: 10\n",
      "20.0\n"
     ]
    }
   ],
   "source": [
    "with open(OUTPUT_FILE, \"w\") as myfile:\n",
    "    myfile.write(\"i,j,k,accuracy\\n\")\n",
    "for weight in weights:\n",
    "    i = weight[0][(0,0)]\n",
    "    j = weight[1][(0,0)]\n",
    "    k = weight[2][(0,0)]\n",
    "    print \"i:\", i, \"j:\", j,\"k:\", k\n",
    "    acc = knn(TRAIN_DATA, TEST_DATA, 1, PATTERNS_1, weight)\n",
    "    print acc\n",
    "    with open(OUTPUT_FILE, \"a\") as myfile:\n",
    "        myfile.write(str(i)+\",\"+str(j)+\",\"+str(k)+\",\"+str(acc)+\"\\n\")"
   ]
  },
  {
   "cell_type": "code",
   "execution_count": null,
   "metadata": {
    "collapsed": true
   },
   "outputs": [],
   "source": []
  }
 ],
 "metadata": {
  "anaconda-cloud": {},
  "kernelspec": {
   "display_name": "Python [conda env:py27]",
   "language": "python",
   "name": "conda-env-py27-py"
  },
  "language_info": {
   "codemirror_mode": {
    "name": "ipython",
    "version": 2
   },
   "file_extension": ".py",
   "mimetype": "text/x-python",
   "name": "python",
   "nbconvert_exporter": "python",
   "pygments_lexer": "ipython2",
   "version": "2.7.12"
  }
 },
 "nbformat": 4,
 "nbformat_minor": 2
}
