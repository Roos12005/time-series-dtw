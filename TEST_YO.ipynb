{
 "cells": [
  {
   "cell_type": "markdown",
   "metadata": {},
   "source": [
    "# KNN & DTW"
   ]
  },
  {
   "cell_type": "code",
   "execution_count": 12,
   "metadata": {
    "collapsed": false
   },
   "outputs": [],
   "source": [
    "# -*- coding: utf-8 -*-\n",
    "class Dtw(object):\n",
    "    \n",
    "    def __init__(self, seq1, seq2,\n",
    "                 patterns = [(-1,-1), (-1,0), (0,-1)], \n",
    "                 weights = [{(0,0):2}, {(0,0):1}, {(0,0):1}], \n",
    "                 band_r=0.005):\n",
    "        self._seq1 = seq1\n",
    "        self._seq2 = seq2\n",
    "        self.len_seq1 = len(seq1)\n",
    "        self.len_seq2 = len(seq2)\n",
    "        self.len_pattern = len(patterns)\n",
    "        self.sum_w = [sum(ws.values()) for ws in weights]\n",
    "        self._r = int(len(seq1)*band_r)\n",
    "        assert len(patterns) == len(weights)\n",
    "        self._patterns = patterns\n",
    "        self._weights = weights\n",
    "    \n",
    "    def get_distance(self, i1, i2):\n",
    "        return abs(self._seq1[i1] - self._seq2[i2])\n",
    "\n",
    "    def calculate(self):\n",
    "        g = list([float('inf')]*self.len_seq2 for i in range(self.len_seq1))\n",
    "        cost = list([0]*self.len_seq2 for i in range(self.len_seq1))\n",
    "\n",
    "        g[0][0] = 2*self.get_distance(0, 0)\n",
    "        for i in range(self.len_seq1):\n",
    "            for j in range(max(0,i-self._r), min(i+self._r+1, self.len_seq2)):\n",
    "                for pat_i in range(self.len_pattern):\n",
    "                    coor = (i+self._patterns[pat_i][0], j+self._patterns[pat_i][1])\n",
    "                    if coor[0]<0 or coor[1]<0:\n",
    "                        continue\n",
    "                    dist = 0\n",
    "                    for w_coor_offset, d_w in self._weights[pat_i].items():\n",
    "                        w_coor = (i+w_coor_offset[0], j+w_coor_offset[1])\n",
    "                        dist += d_w*self.get_distance(w_coor[0], w_coor[1])\n",
    "                    this_val = g[coor[0]][coor[1]] + dist\n",
    "                    this_cost = cost[coor[0]][coor[1]] + self.sum_w[pat_i]\n",
    "                    if this_val < g[i][j]:\n",
    "                        g[i][j] = this_val\n",
    "                        cost[i][j] = this_cost\n",
    "        return g[self.len_seq1-1][self.len_seq2-1]/cost[self.len_seq1-1][self.len_seq2-1], g, cost\n",
    "    \n",
    "    def print_table(self, tb):\n",
    "        print('      '+' '.join([\"{:^7d}\".format(i) for i in range(self.len_seq2)]))\n",
    "        for i in range(self.len_seq1):\n",
    "            str = \"{:^4d}: \".format(i)\n",
    "            for j in range(self.len_seq2):\n",
    "                str += \"{:^7.3f} \".format(tb[i][j])\n",
    "            print (str)\n",
    "\n",
    "    def print_g_matrix(self):\n",
    "        _, tb, _ = self.calculate()\n",
    "        self.print_table(tb)\n",
    "\n",
    "    def print_cost_matrix(self):\n",
    "        _, _, tb = self.calculate()\n",
    "        self.print_table(tb)\n",
    "        \n",
    "    def get_dtw(self):\n",
    "        ans, _, _ = self.calculate()\n",
    "        return ans"
   ]
  },
  {
   "cell_type": "code",
   "execution_count": 13,
   "metadata": {
    "collapsed": false
   },
   "outputs": [],
   "source": [
    "import csv\n",
    "import random\n",
    "import math\n",
    "import operator\n",
    "import numpy as np\n",
    "\n",
    "def loadDataset(filename, data=[]):\n",
    "    with open(filename, 'rb') as csvfile:\n",
    "        lines = csv.reader(csvfile,delimiter=' ')\n",
    "        dataset = list(lines)\n",
    "        for x in range(len(dataset)):\n",
    "            dataset[x] = filter(None, dataset[x])\n",
    "            dataset[x] = list(map(float, dataset[x]))\n",
    "            data.append(dataset[x])\n",
    "\n",
    "def euclideanDistance(instance1, instance2, length):\n",
    "\tdistance = 0\n",
    "\tfor x in range(length):\n",
    "\t\tif x == 0:\n",
    "\t\t\tcontinue\n",
    "\t\tdistance += pow((instance1[x] - instance2[x]), 2)\n",
    "\treturn math.sqrt(distance)\n",
    " \n",
    "def getNeighbors(trainingSet, testInstance, k, pattern, weight, band_r):\n",
    "\tdistances = []\n",
    "\tlength = len(testInstance)\n",
    "\tfor x in range(len(trainingSet)):\n",
    "#  z-normalization\n",
    "\t\tnew_testInstance = (np.array(testInstance)-np.mean(testInstance))/np.std(testInstance)\n",
    "\t\tnew_trainingSet = (np.array(trainingSet[x])-np.mean(trainingSet[x]))/np.std(trainingSet[x])\n",
    "\t\td = Dtw(new_testInstance[1:], new_trainingSet[1:], pattern, weight, band_r)\n",
    "\t\tdist = d.get_dtw()\n",
    "# \t\tdist = euclideanDistance(testInstance, trainingSet[x], length)\n",
    "\t\tdistances.append((trainingSet[x], dist))\n",
    "\tdistances.sort(key=operator.itemgetter(1))\n",
    "#  \tprint \"dist >>>> \",distances\n",
    "\tneighbors = []\n",
    "\tfor x in range(k):\n",
    "\t\tneighbors.append(distances[x][0])\n",
    "\treturn neighbors\n",
    "\n",
    "def getResponse(neighbors):\n",
    "\tclassVotes = {}\n",
    "\tfor x in range(len(neighbors)):\n",
    "\t\tresponse = neighbors[x][0]\n",
    "\t\tif response in classVotes:\n",
    "\t\t\tclassVotes[response] += 1\n",
    "\t\telse:\n",
    "\t\t\tclassVotes[response] = 1\n",
    "\tsortedVotes = sorted(classVotes.iteritems(), key=operator.itemgetter(1), reverse=True)\n",
    "\treturn sortedVotes[0][0]\n",
    " \n",
    "def getAccuracy(testSet, predictions):\n",
    "\tcorrect = 0\n",
    "\tfor x in range(len(testSet)):\n",
    "\t\tif testSet[x][0] == predictions[x]:\n",
    "\t\t\tcorrect += 1\n",
    "\treturn (correct/float(len(testSet))) * 100.0\n",
    "\t\n",
    "def knn(train_data, test_data, k, pattern, weight, band_r):\n",
    "\t# prepare data\n",
    "\ttrainingSet=[]\n",
    "\ttestSet=[]\n",
    "\tloadDataset(train_data, trainingSet)\n",
    "\tloadDataset(test_data, testSet)\n",
    "# \tprint 'Train set: ' + repr(len(trainingSet))\n",
    "# \tprint trainingSet\n",
    "# \tprint 'Test set: ' + repr(len(testSet))\n",
    "# \tprint testSet\n",
    "\t# generate predictions\n",
    "\tpredictions=[]\n",
    "\tfor x in range(len(testSet)):\n",
    "# \t\tprint \">>\",testSet[x]\n",
    "\t\tneighbors = getNeighbors(trainingSet, testSet[x], k, pattern, weight, band_r)\n",
    "# \t\tprint \"neighbors >>\", neighbors\n",
    "\t\tresult = getResponse(neighbors)\n",
    "# \t\tprint \"result >>\", result\n",
    "\t\tpredictions.append(result)\n",
    "# \t\tprint('> predicted=' + repr(result) + ', actual=' + repr(testSet[x][0]))\n",
    "\taccuracy = getAccuracy(testSet, predictions)\n",
    "\treturn accuracy\n",
    "    \n"
   ]
  },
  {
   "cell_type": "markdown",
   "metadata": {},
   "source": [
    "# Main"
   ]
  },
  {
   "cell_type": "code",
   "execution_count": 14,
   "metadata": {
    "collapsed": false
   },
   "outputs": [],
   "source": [
    "PATTERNS_1 = [(0,-1), (-1,-1), (-1,0)]\n",
    "WEIGHTS_SYM_1 = [{(0,0):1}, {(0,0):2}, {(0,0):1}] \n",
    "import numpy as np"
   ]
  },
  {
   "cell_type": "code",
   "execution_count": 15,
   "metadata": {
    "collapsed": false
   },
   "outputs": [
    {
     "name": "stdout",
     "output_type": "stream",
     "text": [
      "[92.85714285714286, 89.28571428571429, 89.28571428571429]\n",
      "90.4761904762\n"
     ]
    }
   ],
   "source": [
    "TRAIN_DATA = 'dataset/Coffee_OUT'\n",
    "TEST_DATA = 'dataset/Coffee_TEST'\n",
    "accuracy = []\n",
    "accuracy.append( knn(TRAIN_DATA, TEST_DATA, 1, PATTERNS_1, WEIGHTS_SYM_1, 0.005) )\n",
    "accuracy.append( knn(TRAIN_DATA, TEST_DATA, 1, PATTERNS_1, WEIGHTS_SYM_1, 0.015) )\n",
    "accuracy.append( knn(TRAIN_DATA, TEST_DATA, 1, PATTERNS_1, WEIGHTS_SYM_1, 0.025) )\n",
    "print accuracy\n",
    "print np.mean(accuracy)\n"
   ]
  },
  {
   "cell_type": "code",
   "execution_count": 16,
   "metadata": {
    "collapsed": false,
    "scrolled": true
   },
   "outputs": [
    {
     "name": "stdout",
     "output_type": "stream",
     "text": [
      "[56.666666666666664, 60.0, 60.0]\n",
      "58.8888888889\n"
     ]
    }
   ],
   "source": [
    "TRAIN_DATA = 'dataset/Beef_OUT'\n",
    "TEST_DATA = 'dataset/Beef_TEST'\n",
    "accuracy = []\n",
    "accuracy.append( knn(TRAIN_DATA, TEST_DATA, 1, PATTERNS_1, WEIGHTS_SYM_1, 0.005) )\n",
    "accuracy.append( knn(TRAIN_DATA, TEST_DATA, 1, PATTERNS_1, WEIGHTS_SYM_1, 0.015) )\n",
    "accuracy.append( knn(TRAIN_DATA, TEST_DATA, 1, PATTERNS_1, WEIGHTS_SYM_1, 0.025) )\n",
    "print accuracy\n",
    "print np.mean(accuracy)"
   ]
  },
  {
   "cell_type": "code",
   "execution_count": 17,
   "metadata": {
    "collapsed": false
   },
   "outputs": [
    {
     "name": "stdout",
     "output_type": "stream",
     "text": [
      "[57.714285714285715, 61.71428571428571, 62.857142857142854]\n",
      "60.7619047619\n"
     ]
    }
   ],
   "source": [
    "TRAIN_DATA = 'dataset/FISH_OUT'\n",
    "TEST_DATA = 'dataset/FISH_TEST'\n",
    "accuracy = []\n",
    "accuracy.append( knn(TRAIN_DATA, TEST_DATA, 1, PATTERNS_1, WEIGHTS_SYM_1, 0.005) )\n",
    "accuracy.append( knn(TRAIN_DATA, TEST_DATA, 1, PATTERNS_1, WEIGHTS_SYM_1, 0.015) )\n",
    "accuracy.append( knn(TRAIN_DATA, TEST_DATA, 1, PATTERNS_1, WEIGHTS_SYM_1, 0.025) )\n",
    "print accuracy\n",
    "print np.mean(accuracy)"
   ]
  },
  {
   "cell_type": "code",
   "execution_count": 18,
   "metadata": {
    "collapsed": false
   },
   "outputs": [
    {
     "name": "stdout",
     "output_type": "stream",
     "text": [
      "[64.30889033095393, 64.24399740428294, 64.01687216093445]\n",
      "64.1899199654\n"
     ]
    }
   ],
   "source": [
    "TRAIN_DATA = 'dataset/wafer_OUT'\n",
    "TEST_DATA = 'dataset/wafer_TEST'\n",
    "accuracy = []\n",
    "accuracy.append( knn(TRAIN_DATA, TEST_DATA, 1, PATTERNS_1, WEIGHTS_SYM_1, 0.005) )\n",
    "accuracy.append( knn(TRAIN_DATA, TEST_DATA, 1, PATTERNS_1, WEIGHTS_SYM_1, 0.015) )\n",
    "accuracy.append( knn(TRAIN_DATA, TEST_DATA, 1, PATTERNS_1, WEIGHTS_SYM_1, 0.025) )\n",
    "print accuracy\n",
    "print np.mean(accuracy)"
   ]
  },
  {
   "cell_type": "code",
   "execution_count": 19,
   "metadata": {
    "collapsed": false
   },
   "outputs": [
    {
     "name": "stdout",
     "output_type": "stream",
     "text": [
      "[49.76331360946746, 52.01183431952663, 59.76331360946746]\n",
      "53.8461538462\n"
     ]
    }
   ],
   "source": [
    "TRAIN_DATA = 'dataset/FaceAll_OUT'\n",
    "TEST_DATA = 'dataset/FaceAll_TEST'\n",
    "accuracy = []\n",
    "accuracy.append( knn(TRAIN_DATA, TEST_DATA, 1, PATTERNS_1, WEIGHTS_SYM_1, 0.005) )\n",
    "accuracy.append( knn(TRAIN_DATA, TEST_DATA, 1, PATTERNS_1, WEIGHTS_SYM_1, 0.015) )\n",
    "accuracy.append( knn(TRAIN_DATA, TEST_DATA, 1, PATTERNS_1, WEIGHTS_SYM_1, 0.025) )\n",
    "print accuracy\n",
    "print np.mean(accuracy)"
   ]
  },
  {
   "cell_type": "code",
   "execution_count": null,
   "metadata": {
    "collapsed": false
   },
   "outputs": [],
   "source": [
    "with open(OUTPUT_FILE, \"w\") as myfile:\n",
    "    myfile.write(\"i,j,k,accuracy\\n\")\n",
    "for weight in weights:\n",
    "    i = weight[0][(0,0)]\n",
    "    j = weight[1][(0,0)]\n",
    "    k = weight[2][(0,0)]\n",
    "    print \"i:\", i, \"j:\", j,\"k:\", k\n",
    "    acc = knn(TRAIN_DATA, TEST_DATA, 1, PATTERNS_1, weight)\n",
    "    print acc\n",
    "    with open(OUTPUT_FILE, \"a\") as myfile:\n",
    "        myfile.write(str(i)+\",\"+str(j)+\",\"+str(k)+\",\"+str(acc)+\"\\n\")"
   ]
  },
  {
   "cell_type": "code",
   "execution_count": null,
   "metadata": {
    "collapsed": true
   },
   "outputs": [],
   "source": []
  }
 ],
 "metadata": {
  "anaconda-cloud": {},
  "kernelspec": {
   "display_name": "Python [conda env:py27]",
   "language": "python",
   "name": "conda-env-py27-py"
  },
  "language_info": {
   "codemirror_mode": {
    "name": "ipython",
    "version": 2
   },
   "file_extension": ".py",
   "mimetype": "text/x-python",
   "name": "python",
   "nbconvert_exporter": "python",
   "pygments_lexer": "ipython2",
   "version": "2.7.12"
  }
 },
 "nbformat": 4,
 "nbformat_minor": 2
}
